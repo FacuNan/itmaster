{
 "cells": [
  {
   "cell_type": "code",
   "execution_count": 50,
   "metadata": {},
   "outputs": [],
   "source": [
    "nombre = input(\"Ingrese su nombre: \")\n",
    "sexo = input(\"Ingresar su sexo M/F segun corresponda: \")\n",
    "edad = int(input(\"Ingresar tu edad: \"))\n",
    "\n",
    "def verificar_sexo(sexo):\n",
    "    return sexo == 'M' or sexo =='F'\n",
    "\n",
    "\n",
    "def verificar_edad(edad):\n",
    "    return edad >= 1 and edad <= 120\n",
    "\n",
    "\n",
    "def main(nombre, sexo, edad):\n",
    "  \n",
    "   while(not verificar_sexo(sexo) or not verificar_edad(edad)):\n",
    "       if(not verificar_edad(edad) and not verificar_sexo(sexo)):\n",
    "           print(f\"{nombre} la edad {edad} y el sexo {sexo} no son validos\")\n",
    "           sexo=input(\"Ingrese nuevamente el sexo M o F: \")\n",
    "           edad = int(input(\"Ingrese nuevamene su edad: \"))\n",
    "        \n",
    "       elif(not verificar_sexo(sexo)):\n",
    "           print(\"Porfavor verificar el sexo \")\n",
    "           sexo = input(\"Porfavor ingrese nuevamente el sexo: \")\n",
    "        \n",
    "       else:\n",
    "           print(\"Verificar la edad\")\n",
    "           edad = int(input(\"Ingrese nuevamente la edad: \"))\n",
    "          \n",
    "\n",
    "    \n",
    "   print(f\"{nombre}, Usted sea bienvenido/a\")\n",
    "           \n",
    "\n"
   ]
  },
  {
   "cell_type": "code",
   "execution_count": 51,
   "metadata": {},
   "outputs": [
    {
     "name": "stdout",
     "output_type": "stream",
     "text": [
      "Nancy  la edad 548 y el sexo pr no son validos\n",
      "Nancy , Usted se bienvenido\n"
     ]
    }
   ],
   "source": [
    "main(nombre, sexo, edad)"
   ]
  }
 ],
 "metadata": {
  "kernelspec": {
   "display_name": "Python 3",
   "language": "python",
   "name": "python3"
  },
  "language_info": {
   "codemirror_mode": {
    "name": "ipython",
    "version": 3
   },
   "file_extension": ".py",
   "mimetype": "text/x-python",
   "name": "python",
   "nbconvert_exporter": "python",
   "pygments_lexer": "ipython3",
   "version": "3.10.6"
  },
  "orig_nbformat": 4,
  "vscode": {
   "interpreter": {
    "hash": "e7370f93d1d0cde622a1f8e1c04877d8463912d04d973331ad4851f04de6915a"
   }
  }
 },
 "nbformat": 4,
 "nbformat_minor": 2
}
